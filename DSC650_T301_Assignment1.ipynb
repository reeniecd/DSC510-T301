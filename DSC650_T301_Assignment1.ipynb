{
  "nbformat": 4,
  "nbformat_minor": 0,
  "metadata": {
    "colab": {
      "provenance": [],
      "authorship_tag": "ABX9TyN8cEvuEDFRJ3Ugko2CdHiU",
      "include_colab_link": true
    },
    "kernelspec": {
      "name": "python3",
      "display_name": "Python 3"
    },
    "language_info": {
      "name": "python"
    },
    "accelerator": "GPU",
    "gpuClass": "standard"
  },
  "cells": [
    {
      "cell_type": "markdown",
      "metadata": {
        "id": "view-in-github",
        "colab_type": "text"
      },
      "source": [
        "<a href=\"https://colab.research.google.com/github/reeniecd/DSC510-T301/blob/master/DSC650_T301_Assignment1.ipynb\" target=\"_parent\"><img src=\"https://colab.research.google.com/assets/colab-badge.svg\" alt=\"Open In Colab\"/></a>"
      ]
    },
    {
      "cell_type": "code",
      "source": [
        "!git clone https://github.com/bellevue-university/dsc650.git"
      ],
      "metadata": {
        "colab": {
          "base_uri": "https://localhost:8080/"
        },
        "id": "i3n7YUjCOoL8",
        "outputId": "7575c4b5-033e-4a3e-a638-7ceb0fa9a38a"
      },
      "execution_count": null,
      "outputs": [
        {
          "output_type": "stream",
          "name": "stdout",
          "text": [
            "Cloning into 'dsc650'...\n",
            "remote: Enumerating objects: 120326, done.\u001b[K\n",
            "remote: Counting objects: 100% (128/128), done.\u001b[K\n",
            "remote: Compressing objects: 100% (50/50), done.\u001b[K\n",
            "remote: Total 120326 (delta 57), reused 98 (delta 46), pack-reused 120198\u001b[K\n",
            "Receiving objects: 100% (120326/120326), 360.60 MiB | 13.18 MiB/s, done.\n",
            "Resolving deltas: 100% (7340/7340), done.\n",
            "Updating files: 100% (114699/114699), done.\n"
          ]
        }
      ]
    },
    {
      "cell_type": "code",
      "source": [
        "from datetime import datetime\n",
        "\n",
        "with open('/content/dsc650/dsc650/assignments/assignment01/logs/keras-mnist.log', 'a') as f:\n",
        "  from tensorflow import keras\n",
        "  from keras.datasets import mnist\n",
        "  from keras.models import Sequential\n",
        "  from keras.layers import Dense, Dropout\n",
        "  from keras.optimizers import RMSprop\n",
        "\n",
        "  batch_size = 128\n",
        "  num_classes = 10\n",
        "  epochs = 20\n",
        "\n",
        "  # the data, split between train and test sets\n",
        "  (x_train, y_train), (x_test, y_test) = mnist.load_data()\n",
        "\n",
        "  x_train = x_train.reshape(60000, 784)\n",
        "  x_test = x_test.reshape(10000, 784)\n",
        "  x_train = x_train.astype('float32')\n",
        "  x_test = x_test.astype('float32')\n",
        "  x_train /= 255\n",
        "  x_test /= 255\n",
        "  print(x_train.shape[0], 'train samples')\n",
        "  print(x_test.shape[0], 'test samples')\n",
        "\n",
        "  # convert class vectors to binary class matrices\n",
        "  y_train = keras.utils.to_categorical(y_train, num_classes)\n",
        "  y_test = keras.utils.to_categorical(y_test, num_classes)\n",
        "\n",
        "  model = Sequential()\n",
        "  model.add(Dense(512, activation='relu', input_shape=(784,)))\n",
        "  model.add(Dropout(0.2))\n",
        "  model.add(Dense(512, activation='relu'))\n",
        "  model.add(Dropout(0.2))\n",
        "  model.add(Dense(num_classes, activation='softmax'))\n",
        "\n",
        "  model.summary()\n",
        "\n",
        "  model.compile(loss='categorical_crossentropy',\n",
        "              optimizer=RMSprop(),\n",
        "              metrics=['accuracy'])\n",
        "\n",
        "  history = model.fit(x_train, y_train,\n",
        "                    batch_size=batch_size,\n",
        "                    epochs=epochs,\n",
        "                    verbose=1,\n",
        "                    validation_data=(x_test, y_test))\n",
        "  score = model.evaluate(x_test, y_test, verbose=0)\n",
        "  f.write (datetime.now().strftime('%Y-%m-%d %H:%M:%S') + \"\\n\" )\n",
        "  f.write('Test loss :' +  str(score[0]) + \"\\n\")\n",
        "  f.write('Test Accuracy :' + str(score[1]) + \"\\n\")\n",
        "\n"
      ],
      "metadata": {
        "colab": {
          "base_uri": "https://localhost:8080/"
        },
        "id": "iKsYHbalTZ2I",
        "outputId": "00822e4f-2a27-4b5d-8ec8-3927230fe1c4"
      },
      "execution_count": null,
      "outputs": [
        {
          "output_type": "stream",
          "name": "stdout",
          "text": [
            "60000 train samples\n",
            "10000 test samples\n",
            "Model: \"sequential_8\"\n",
            "_________________________________________________________________\n",
            " Layer (type)                Output Shape              Param #   \n",
            "=================================================================\n",
            " dense_24 (Dense)            (None, 512)               401920    \n",
            "                                                                 \n",
            " dropout_16 (Dropout)        (None, 512)               0         \n",
            "                                                                 \n",
            " dense_25 (Dense)            (None, 512)               262656    \n",
            "                                                                 \n",
            " dropout_17 (Dropout)        (None, 512)               0         \n",
            "                                                                 \n",
            " dense_26 (Dense)            (None, 10)                5130      \n",
            "                                                                 \n",
            "=================================================================\n",
            "Total params: 669,706\n",
            "Trainable params: 669,706\n",
            "Non-trainable params: 0\n",
            "_________________________________________________________________\n",
            "Epoch 1/20\n",
            "469/469 [==============================] - 4s 6ms/step - loss: 0.2500 - accuracy: 0.9226 - val_loss: 0.1301 - val_accuracy: 0.9615\n",
            "Epoch 2/20\n",
            "469/469 [==============================] - 2s 4ms/step - loss: 0.1004 - accuracy: 0.9693 - val_loss: 0.0770 - val_accuracy: 0.9782\n",
            "Epoch 3/20\n",
            "469/469 [==============================] - 2s 4ms/step - loss: 0.0731 - accuracy: 0.9778 - val_loss: 0.0835 - val_accuracy: 0.9757\n",
            "Epoch 4/20\n",
            "469/469 [==============================] - 2s 4ms/step - loss: 0.0583 - accuracy: 0.9824 - val_loss: 0.0675 - val_accuracy: 0.9816\n",
            "Epoch 5/20\n",
            "469/469 [==============================] - 2s 4ms/step - loss: 0.0521 - accuracy: 0.9842 - val_loss: 0.0839 - val_accuracy: 0.9784\n",
            "Epoch 6/20\n",
            "469/469 [==============================] - 2s 4ms/step - loss: 0.0429 - accuracy: 0.9871 - val_loss: 0.0684 - val_accuracy: 0.9830\n",
            "Epoch 7/20\n",
            "469/469 [==============================] - 3s 6ms/step - loss: 0.0375 - accuracy: 0.9888 - val_loss: 0.0853 - val_accuracy: 0.9807\n",
            "Epoch 8/20\n",
            "469/469 [==============================] - 2s 5ms/step - loss: 0.0321 - accuracy: 0.9903 - val_loss: 0.0850 - val_accuracy: 0.9822\n",
            "Epoch 9/20\n",
            "469/469 [==============================] - 2s 4ms/step - loss: 0.0303 - accuracy: 0.9912 - val_loss: 0.0873 - val_accuracy: 0.9825\n",
            "Epoch 10/20\n",
            "469/469 [==============================] - 2s 5ms/step - loss: 0.0275 - accuracy: 0.9916 - val_loss: 0.0918 - val_accuracy: 0.9824\n",
            "Epoch 11/20\n",
            "469/469 [==============================] - 2s 4ms/step - loss: 0.0261 - accuracy: 0.9922 - val_loss: 0.0897 - val_accuracy: 0.9823\n",
            "Epoch 12/20\n",
            "469/469 [==============================] - 2s 4ms/step - loss: 0.0242 - accuracy: 0.9931 - val_loss: 0.0897 - val_accuracy: 0.9833\n",
            "Epoch 13/20\n",
            "469/469 [==============================] - 3s 6ms/step - loss: 0.0229 - accuracy: 0.9935 - val_loss: 0.0990 - val_accuracy: 0.9832\n",
            "Epoch 14/20\n",
            "469/469 [==============================] - 2s 5ms/step - loss: 0.0222 - accuracy: 0.9939 - val_loss: 0.1042 - val_accuracy: 0.9829\n",
            "Epoch 15/20\n",
            "469/469 [==============================] - 2s 4ms/step - loss: 0.0219 - accuracy: 0.9943 - val_loss: 0.1057 - val_accuracy: 0.9833\n",
            "Epoch 16/20\n",
            "469/469 [==============================] - 2s 4ms/step - loss: 0.0201 - accuracy: 0.9945 - val_loss: 0.1134 - val_accuracy: 0.9832\n",
            "Epoch 17/20\n",
            "469/469 [==============================] - 2s 4ms/step - loss: 0.0182 - accuracy: 0.9950 - val_loss: 0.1284 - val_accuracy: 0.9832\n",
            "Epoch 18/20\n",
            "469/469 [==============================] - 2s 4ms/step - loss: 0.0194 - accuracy: 0.9949 - val_loss: 0.1237 - val_accuracy: 0.9840\n",
            "Epoch 19/20\n",
            "469/469 [==============================] - 3s 6ms/step - loss: 0.0183 - accuracy: 0.9946 - val_loss: 0.1271 - val_accuracy: 0.9842\n",
            "Epoch 20/20\n",
            "469/469 [==============================] - 2s 5ms/step - loss: 0.0182 - accuracy: 0.9954 - val_loss: 0.1207 - val_accuracy: 0.9843\n"
          ]
        }
      ]
    },
    {
      "cell_type": "code",
      "source": [
        "!pip install pyspark"
      ],
      "metadata": {
        "colab": {
          "base_uri": "https://localhost:8080/"
        },
        "id": "JBVTbDFNpP2A",
        "outputId": "f61e911d-726e-4fcb-fe75-731dba7f3d83"
      },
      "execution_count": null,
      "outputs": [
        {
          "output_type": "stream",
          "name": "stdout",
          "text": [
            "Looking in indexes: https://pypi.org/simple, https://us-python.pkg.dev/colab-wheels/public/simple/\n",
            "Collecting pyspark\n",
            "  Downloading pyspark-3.3.2.tar.gz (281.4 MB)\n",
            "\u001b[2K     \u001b[90m━━━━━━━━━━━━━━━━━━━━━━━━━━━━━━━━━━━━━━━\u001b[0m \u001b[32m281.4/281.4 MB\u001b[0m \u001b[31m5.5 MB/s\u001b[0m eta \u001b[36m0:00:00\u001b[0m\n",
            "\u001b[?25h  Preparing metadata (setup.py) ... \u001b[?25l\u001b[?25hdone\n",
            "Collecting py4j==0.10.9.5\n",
            "  Downloading py4j-0.10.9.5-py2.py3-none-any.whl (199 kB)\n",
            "\u001b[2K     \u001b[90m━━━━━━━━━━━━━━━━━━━━━━━━━━━━━━━━━━━━━━\u001b[0m \u001b[32m199.7/199.7 KB\u001b[0m \u001b[31m13.8 MB/s\u001b[0m eta \u001b[36m0:00:00\u001b[0m\n",
            "\u001b[?25hBuilding wheels for collected packages: pyspark\n",
            "  Building wheel for pyspark (setup.py) ... \u001b[?25l\u001b[?25hdone\n",
            "  Created wheel for pyspark: filename=pyspark-3.3.2-py2.py3-none-any.whl size=281824028 sha256=0852b66ab0392cc7decd1576a9daefb0c94c63ce99995d08edca3881ae779837\n",
            "  Stored in directory: /root/.cache/pip/wheels/6c/e3/9b/0525ce8a69478916513509d43693511463c6468db0de237c86\n",
            "Successfully built pyspark\n",
            "Installing collected packages: py4j, pyspark\n",
            "  Attempting uninstall: py4j\n",
            "    Found existing installation: py4j 0.10.9.7\n",
            "    Uninstalling py4j-0.10.9.7:\n",
            "      Successfully uninstalled py4j-0.10.9.7\n",
            "Successfully installed py4j-0.10.9.5 pyspark-3.3.2\n"
          ]
        }
      ]
    },
    {
      "cell_type": "code",
      "source": [
        "\n",
        "from datetime import datetime\n",
        "import sys\n",
        "from random import random\n",
        "from operator import add\n",
        "\n",
        "from pyspark.sql import SparkSession\n",
        "\n",
        "\n",
        "if __name__ == \"__main__\":\n",
        "  \"\"\"\n",
        "      Usage: pi [partitions]\n",
        "  \"\"\"\n",
        "  spark = SparkSession\\\n",
        "      .builder\\\n",
        "      .appName(\"PythonPi\")\\\n",
        "      .getOrCreate()\n",
        "\n",
        "  partitions = 2     \n",
        "\n",
        "  #partitions = int(sys.argv[1]) if len(sys.argv) > 1 else 2\n",
        "  n = 100000 * partitions\n",
        "\n",
        "  def f(_):\n",
        "      x = random() * 2 - 1\n",
        "      y = random() * 2 - 1\n",
        "      return 1 if x ** 2 + y ** 2 <= 1 else 0\n",
        "\n",
        "  count = spark.sparkContext.parallelize(range(1, n + 1), partitions).map(f).reduce(add)\n",
        "  print(\"Pi is roughly %f\" % (4.0 * count / n))\n",
        "  \n",
        "  \n",
        "  spark.stop()\n",
        "  with open('/content/dsc650/dsc650/assignments/assignment01/logs/spark-pi.log', 'a') as f:\n",
        "    f.write (datetime.now().strftime('%Y-%m-%d %H:%M:%S') + \"\\n\" )\n",
        "    f.write ('Pi is :' +  str((4.0 * count / n)) + \"\\n\")"
      ],
      "metadata": {
        "colab": {
          "base_uri": "https://localhost:8080/"
        },
        "id": "Y_yYy-JEo-9Z",
        "outputId": "6cbcf733-dd85-4202-ccba-bd86e63ec305"
      },
      "execution_count": null,
      "outputs": [
        {
          "output_type": "stream",
          "name": "stdout",
          "text": [
            "Pi is roughly 3.135080\n"
          ]
        }
      ]
    },
    {
      "cell_type": "code",
      "source": [
        "!apt-get install tree"
      ],
      "metadata": {
        "colab": {
          "base_uri": "https://localhost:8080/"
        },
        "id": "353KS1mS3_-v",
        "outputId": "91b0f82b-cd22-41f4-83c0-7ec793c1ced7"
      },
      "execution_count": 38,
      "outputs": [
        {
          "output_type": "stream",
          "name": "stdout",
          "text": [
            "Reading package lists... Done\n",
            "Building dependency tree       \n",
            "Reading state information... Done\n",
            "The following NEW packages will be installed:\n",
            "  tree\n",
            "0 upgraded, 1 newly installed, 0 to remove and 23 not upgraded.\n",
            "Need to get 43.0 kB of archives.\n",
            "After this operation, 115 kB of additional disk space will be used.\n",
            "Get:1 http://archive.ubuntu.com/ubuntu focal/universe amd64 tree amd64 1.8.0-1 [43.0 kB]\n",
            "Fetched 43.0 kB in 0s (661 kB/s)\n",
            "Selecting previously unselected package tree.\n",
            "(Reading database ... 128276 files and directories currently installed.)\n",
            "Preparing to unpack .../tree_1.8.0-1_amd64.deb ...\n",
            "Unpacking tree (1.8.0-1) ...\n",
            "Setting up tree (1.8.0-1) ...\n",
            "Processing triggers for man-db (2.9.1-1) ...\n"
          ]
        }
      ]
    },
    {
      "cell_type": "code",
      "source": [],
      "metadata": {
        "id": "kZ0x4J194CtD"
      },
      "execution_count": null,
      "outputs": []
    }
  ]
}